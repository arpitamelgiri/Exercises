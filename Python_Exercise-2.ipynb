{
 "cells": [
  {
   "cell_type": "code",
   "execution_count": 3,
   "id": "39ecab6e",
   "metadata": {},
   "outputs": [],
   "source": [
    "#2 . Create a Python program to find and \n",
    "#remove duplicate files from a given folder location or subfolder location passed as input.\n",
    "\n"
   ]
  },
  {
   "cell_type": "code",
   "execution_count": null,
   "id": "82d86b7b",
   "metadata": {},
   "outputs": [],
   "source": [
    "from genericpath import exists\n",
    "\n",
    "import os\n",
    "\n",
    "add_location = input(r\"\")\n",
    "\n",
    "# add_loc = ''.join(('r',add_location))\n",
    "\n",
    "# print(add_loc)\n",
    "file_name = 'demofile.txt'\n",
    "pathh = os.path.join(add_location,file_name)\n",
    "if os.path.exists(pathh):\n",
    "    os.remove(pathh)\n",
    "    print(\"%s has been removed successfully\" %file_name)\n",
    "else:\n",
    "    print(\"files doesnt exists\")  \n"
   ]
  },
  {
   "cell_type": "code",
   "execution_count": null,
   "id": "6712cb6a",
   "metadata": {},
   "outputs": [],
   "source": []
  }
 ],
 "metadata": {
  "kernelspec": {
   "display_name": "Python 3 (ipykernel)",
   "language": "python",
   "name": "python3"
  },
  "language_info": {
   "codemirror_mode": {
    "name": "ipython",
    "version": 3
   },
   "file_extension": ".py",
   "mimetype": "text/x-python",
   "name": "python",
   "nbconvert_exporter": "python",
   "pygments_lexer": "ipython3",
   "version": "3.9.12"
  }
 },
 "nbformat": 4,
 "nbformat_minor": 5
}

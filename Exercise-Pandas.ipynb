{
 "cells": [
  {
   "cell_type": "code",
   "execution_count": 1,
   "id": "a02b467a",
   "metadata": {},
   "outputs": [],
   "source": [
    "from enum import auto\n",
    "from itertools import count\n",
    "from operator import truediv\n",
    "from turtle import color\n",
    "import numpy as np\n",
    "import pandas as pd\n",
    "import matplotlib.pyplot as plt\n",
    "import seaborn as sns\n",
    "import warnings\n",
    "warnings.filterwarnings('ignore')\n"
   ]
  },
  {
   "cell_type": "code",
   "execution_count": 2,
   "id": "87b1235a",
   "metadata": {},
   "outputs": [],
   "source": [
    "datas = pd.read_csv('FDNY.csv')\n"
   ]
  },
  {
   "cell_type": "code",
   "execution_count": 3,
   "id": "29e9e28f",
   "metadata": {},
   "outputs": [
    {
     "name": "stdout",
     "output_type": "stream",
     "text": [
      "                                          FacilityName  \\\n",
      "0                                         FacilityName   \n",
      "1                                   Engine 4/Ladder 15   \n",
      "2                                  Engine 10/Ladder 10   \n",
      "3                                             Engine 6   \n",
      "4    Engine 7/Ladder 1/Battalion 1/Manhattan Boroug...   \n",
      "..                                                 ...   \n",
      "214                  Engine 162/Ladder 82/Battalion 23   \n",
      "215                               Engine 167/Ladder 87   \n",
      "216                               Engine 164/Ladder 84   \n",
      "217                          Engine 168/EMS Station 23   \n",
      "218                               Engine 151/Ladder 76   \n",
      "\n",
      "              FacilityAddress        Borough  \n",
      "0             FacilityAddress        Borough  \n",
      "1             42 South Street      Manhattan  \n",
      "2          124 Liberty Street      Manhattan  \n",
      "3           49 Beekman Street      Manhattan  \n",
      "4        100-104 Duane Street      Manhattan  \n",
      "..                        ...            ...  \n",
      "214         256 Nelson Avenue  Staten Island  \n",
      "215         345 Annadale Road  Staten Island  \n",
      "216  1560 Drumgoole Road West  Staten Island  \n",
      "217     1100 Rossville Avenue  Staten Island  \n",
      "218           7219 Amboy Road  Staten Island  \n",
      "\n",
      "[219 rows x 3 columns]\n"
     ]
    }
   ],
   "source": [
    "## 1 viewing content of data\n",
    "print(datas)\n"
   ]
  },
  {
   "cell_type": "code",
   "execution_count": 4,
   "id": "1b3d1900",
   "metadata": {},
   "outputs": [
    {
     "name": "stdout",
     "output_type": "stream",
     "text": [
      "                                        FacilityName        FacilityAddress  \\\n",
      "0                                       FacilityName        FacilityAddress   \n",
      "1                                 Engine 4/Ladder 15        42 South Street   \n",
      "2                                Engine 10/Ladder 10     124 Liberty Street   \n",
      "3                                           Engine 6      49 Beekman Street   \n",
      "4  Engine 7/Ladder 1/Battalion 1/Manhattan Boroug...   100-104 Duane Street   \n",
      "5                                           Ladder 8  14 North Moore Street   \n",
      "\n",
      "     Borough  \n",
      "0    Borough  \n",
      "1  Manhattan  \n",
      "2  Manhattan  \n",
      "3  Manhattan  \n",
      "4  Manhattan  \n",
      "5  Manhattan  \n",
      "         FacilityAddress    Borough\n",
      "1        42 South Street  Manhattan\n",
      "2     124 Liberty Street  Manhattan\n",
      "3      49 Beekman Street  Manhattan\n",
      "4   100-104 Duane Street  Manhattan\n",
      "5  14 North Moore Street  Manhattan\n",
      "<bound method DataFrame.count of                                           FacilityName  \\\n",
      "0                                         FacilityName   \n",
      "1                                   Engine 4/Ladder 15   \n",
      "2                                  Engine 10/Ladder 10   \n",
      "3                                             Engine 6   \n",
      "4    Engine 7/Ladder 1/Battalion 1/Manhattan Boroug...   \n",
      "..                                                 ...   \n",
      "214                  Engine 162/Ladder 82/Battalion 23   \n",
      "215                               Engine 167/Ladder 87   \n",
      "216                               Engine 164/Ladder 84   \n",
      "217                          Engine 168/EMS Station 23   \n",
      "218                               Engine 151/Ladder 76   \n",
      "\n",
      "              FacilityAddress        Borough  \n",
      "0             FacilityAddress        Borough  \n",
      "1             42 South Street      Manhattan  \n",
      "2          124 Liberty Street      Manhattan  \n",
      "3           49 Beekman Street      Manhattan  \n",
      "4        100-104 Duane Street      Manhattan  \n",
      "..                        ...            ...  \n",
      "214         256 Nelson Avenue  Staten Island  \n",
      "215         345 Annadale Road  Staten Island  \n",
      "216  1560 Drumgoole Road West  Staten Island  \n",
      "217     1100 Rossville Avenue  Staten Island  \n",
      "218           7219 Amboy Road  Staten Island  \n",
      "\n",
      "[219 rows x 3 columns]>\n",
      "RangeIndex(start=0, stop=219, step=1)\n",
      "Index(['FacilityName', 'FacilityAddress', 'Borough'], dtype='object')\n",
      "Brooklyn         66\n",
      "Queens           50\n",
      "Manhattan        48\n",
      "Bronx            34\n",
      "Staten Island    20\n",
      "Borough           1\n",
      "Name: Borough, dtype: int64\n"
     ]
    }
   ],
   "source": [
    "## 2 view firt 5 records\n",
    "print(datas.head(6))  \n",
    "\n",
    "## 3 skipping first row and print 5 data sets\n",
    "print(datas.iloc[1:6 ,  1:])\n",
    "# print(datas,skiprows=1)\n",
    "\n",
    "## 4 show statistics \n",
    "print(datas.count)\n",
    "## 5 displaying row index\n",
    "print(datas.index)\n",
    "\n",
    "## 6 pandas accessing columns\n",
    "\n",
    "print(datas.columns) ## ADDING COLUMN NAME IN string\n",
    "\n",
    "print(datas['Borough'].value_counts())\n",
    "\n"
   ]
  },
  {
   "cell_type": "code",
   "execution_count": 5,
   "id": "7a2cea85",
   "metadata": {},
   "outputs": [
    {
     "name": "stdout",
     "output_type": "stream",
     "text": [
      "FacilityName       object\n",
      "FacilityAddress    object\n",
      "Borough            object\n",
      "dtype: object\n",
      "FacilityName                          1\n",
      "Engine 325/Ladder 163                 1\n",
      "Engine 276/Ladder 156/Battalion 33    1\n",
      "Engine 253                            1\n",
      "Engine 318/Ladder 166                 1\n",
      "                                     ..\n",
      "Engine 62/Ladder 32                   1\n",
      "Engine 38/Ladder 51                   1\n",
      "Engine 63/Ladder 39/Battalion 15      1\n",
      "Engine 66/Ladder 61                   1\n",
      "Engine 151/Ladder 76                  1\n",
      "Name: FacilityName, Length: 219, dtype: int64\n"
     ]
    }
   ],
   "source": [
    "#show datatypes of each columns\n",
    "print(datas.dtypes)\n",
    "\n",
    "\n",
    "\n",
    "# find the total number of facilities\n",
    "\n",
    "print(datas['FacilityName'].value_counts())\n",
    "\n",
    "## finding total number of fire department facilities in nyc\n",
    "# fd_nyc = (datas.loc[:,\"LOC_STATE_NAME\"] == \"New York\" )\n",
    "# countt = 0\n",
    "# for i in fd_nyc:\n",
    "#     if i == True:\n",
    "#         count +=1\n",
    "# print(countt)    \n",
    "\n",
    "## finding total number of fire department facilities in all newyork\n",
    "# fd_all = (datas.loc[:,\"LOC_STATE_NAME\"])\n",
    "# print(fd_all.count())\n",
    "\n"
   ]
  },
  {
   "cell_type": "code",
   "execution_count": 6,
   "id": "377bcef6",
   "metadata": {},
   "outputs": [
    {
     "name": "stdout",
     "output_type": "stream",
     "text": [
      "Borough\n",
      "Borough           1\n",
      "Bronx            34\n",
      "Brooklyn         66\n",
      "Manhattan        48\n",
      "Queens           50\n",
      "Staten Island    20\n",
      "dtype: int64\n",
      "              FacilityName         \\\n",
      "                     count unique   \n",
      "Borough                             \n",
      "Borough                  1      1   \n",
      "Bronx                   34     34   \n",
      "Brooklyn                66     66   \n",
      "Manhattan               48     48   \n",
      "Queens                  50     50   \n",
      "Staten Island           20     20   \n",
      "\n",
      "                                                                       \\\n",
      "                                                             top freq   \n",
      "Borough                                                                 \n",
      "Borough                                             FacilityName    1   \n",
      "Bronx                           Engine 60/Ladder 17/Battalion 14    1   \n",
      "Brooklyn       Engine 207/Ladder 110/Battalion 31/Division 11...    1   \n",
      "Manhattan                                     Engine 4/Ladder 15    1   \n",
      "Queens                                     Engine 258/Ladder 115    1   \n",
      "Staten Island                                           Marine 9    1   \n",
      "\n",
      "              FacilityAddress                                           \n",
      "                        count unique                          top freq  \n",
      "Borough                                                                 \n",
      "Borough                     1      1              FacilityAddress    1  \n",
      "Bronx                      34     34        341 East 143rd Street    1  \n",
      "Brooklyn                   66     66           172 Tillary Street    1  \n",
      "Manhattan                  48     48              42 South Street    1  \n",
      "Queens                     50     50            10-40 47th Avenue    1  \n",
      "Staten Island              20     20  Saint George Ferry Terminal    1  \n"
     ]
    }
   ],
   "source": [
    "# show size of fdny for each borough\n",
    "\n",
    "print(datas.groupby(['Borough']).size())\n",
    "\n",
    "# view fdny information for each borough\n",
    "\n",
    "print(datas.groupby(['Borough']).describe())\n",
    "\n",
    " # replacing nan\n",
    "# print(datas.dropna(inplace = True))\n",
    "\n",
    "\n",
    "\n",
    "# describe gives stats unique top freq count"
   ]
  },
  {
   "cell_type": "code",
   "execution_count": null,
   "id": "2af2d627",
   "metadata": {},
   "outputs": [],
   "source": []
  }
 ],
 "metadata": {
  "kernelspec": {
   "display_name": "Python 3 (ipykernel)",
   "language": "python",
   "name": "python3"
  },
  "language_info": {
   "codemirror_mode": {
    "name": "ipython",
    "version": 3
   },
   "file_extension": ".py",
   "mimetype": "text/x-python",
   "name": "python",
   "nbconvert_exporter": "python",
   "pygments_lexer": "ipython3",
   "version": "3.9.12"
  }
 },
 "nbformat": 4,
 "nbformat_minor": 5
}

{
 "cells": [
  {
   "cell_type": "code",
   "execution_count": 1,
   "id": "46e8abf7",
   "metadata": {},
   "outputs": [
    {
     "ename": "SyntaxError",
     "evalue": "invalid syntax (858970682.py, line 1)",
     "output_type": "error",
     "traceback": [
      "\u001b[1;36m  Input \u001b[1;32mIn [1]\u001b[1;36m\u001b[0m\n\u001b[1;33m    test> use newHRDatabase\u001b[0m\n\u001b[1;37m              ^\u001b[0m\n\u001b[1;31mSyntaxError\u001b[0m\u001b[1;31m:\u001b[0m invalid syntax\n"
     ]
    }
   ],
   "source": [
    "test> use newHRDatabase\n",
    "switched to db newHRDatabase\n",
    "newHRDatabase> show collections\n",
    "PersonalInfo\n",
    "ProfessionalInfo\n",
    "newHRDatabase> db.PersonalInfo.insert({Empid: 'X20221010', EmpName: 'Pritam',Age:'26',Gender:'Male',Contact:'9867789809',city:'delhi'})\n",
    "newHRDatabase> db.PersonalInfo.insert({Empid:'X20221011', EmpName:'Gitanjali',Age:'27',Gender:'Female',Contact:9878678909,city:'newyork'})\n",
    "newHRDatabase> db.PersonalInfo.insert({Empid:'X20221013', EmpName:'Sonam',Age:'29',Gender:'Female',Contact:9878678909,city:'Bengaluru'})\n",
    "newHRDatabase> db.PersonalInfo.insert({Empid:'X20221017', EmpName:'Shekar',Age:'28',Gender:'Male',Contact:9878678909,city:'Pune'})\n",
    "newHRDatabase> db.ProfessionalInfo.insert({Designation:'Consultant', Department:'Finance',Income:'8000'})\n",
    "newHRDatabase> db.ProfessionalInfo.insert({Designation:'Data analyst', Department:'Software',Income:'15000'})\n",
    "newHRDatabase> db.ProfessionalInfo.insert({Designation:'Sr.Developer', Department:'IT',Income:'9000'})\n",
    "newHRDatabase> db.ProfessionalInfo.insert({Designation:'Manager', Department:'Logistics',Income:'20000'})\n",
    "newHRDatabase> db.PersonalInfo.update({EmpName :'Gitanjali',},{$set:{'Age':'25','city':'chennai'}})\n",
    "newHRDatabase> db.PersonalInfo.update({EmpName : 'Sonam',},{$set:{'Age':'31','city':'Kolkata'}})\n",
    "newHRDatabase> db.PersonalInfo.find().pretty()\n",
    " newHRDatabase> db.ProfessionalInfo.find().pretty()"
   ]
  },
  {
   "cell_type": "code",
   "execution_count": null,
   "id": "222c92c9",
   "metadata": {},
   "outputs": [],
   "source": []
  }
 ],
 "metadata": {
  "kernelspec": {
   "display_name": "Python 3 (ipykernel)",
   "language": "python",
   "name": "python3"
  },
  "language_info": {
   "codemirror_mode": {
    "name": "ipython",
    "version": 3
   },
   "file_extension": ".py",
   "mimetype": "text/x-python",
   "name": "python",
   "nbconvert_exporter": "python",
   "pygments_lexer": "ipython3",
   "version": "3.9.12"
  }
 },
 "nbformat": 4,
 "nbformat_minor": 5
}
